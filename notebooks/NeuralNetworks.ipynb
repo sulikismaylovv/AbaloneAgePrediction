{
 "cells": [
  {
   "cell_type": "markdown",
   "metadata": {},
   "source": [
    "## Neural Network Multiple Multiclass"
   ]
  },
  {
   "cell_type": "code",
   "execution_count": 272,
   "metadata": {},
   "outputs": [
    {
     "name": "stdout",
     "output_type": "stream",
     "text": [
      "Training set: (2923, 11) (2923,)\n",
      "Testing set: (627, 11) (627,)\n",
      "Validation set: (627, 11) (627,)\n",
      "\n",
      "Training set:\n",
      "      Length  Diameter  Height  Whole weight  Shucked weight  Viscera weight  \\\n",
      "2830   0.525     0.430   0.135        0.8435          0.4325          0.1800   \n",
      "925    0.430     0.325   0.100        0.3645          0.1575          0.0825   \n",
      "3845   0.455     0.350   0.105        0.4160          0.1625          0.0970   \n",
      "547    0.205     0.155   0.045        0.0425          0.0170          0.0055   \n",
      "2259   0.590     0.465   0.160        1.1005          0.5060          0.2525   \n",
      "\n",
      "      Shell weight   Age  Sex_F  Sex_I  Sex_M  \n",
      "2830        0.1815  10.5    1.0    0.0    0.0  \n",
      "925         0.1050   8.5    0.0    1.0    0.0  \n",
      "3845        0.1450  12.5    0.0    0.0    1.0  \n",
      "547         0.0155   8.5    0.0    0.0    1.0  \n",
      "2259        0.2950  14.5    1.0    0.0    0.0  \n",
      "\n",
      "Testing set:\n",
      "      Length  Diameter  Height  Whole weight  Shucked weight  Viscera weight  \\\n",
      "3142   0.215     0.165   0.055        0.0590          0.0265          0.0125   \n",
      "752    0.605     0.460   0.170        1.1220          0.3470          0.3045   \n",
      "1188   0.690     0.540   0.155        1.4540          0.6240          0.3105   \n",
      "3740   0.650     0.500   0.170        1.4045          0.6940          0.3180   \n",
      "2586   0.555     0.425   0.140        0.9630          0.4400          0.2240   \n",
      "\n",
      "      Shell weight   Age  Sex_F  Sex_I  Sex_M  \n",
      "3142        0.0185   6.5    0.0    1.0    0.0  \n",
      "752         0.3150  14.5    1.0    0.0    0.0  \n",
      "1188        0.3900  10.5    1.0    0.0    0.0  \n",
      "3740        0.3235  12.5    1.0    0.0    0.0  \n",
      "2586        0.2400   8.5    1.0    0.0    0.0  \n",
      "\n",
      "Validation set:\n",
      "      Length  Diameter  Height  Whole weight  Shucked weight  Viscera weight  \\\n",
      "2148   0.415     0.310   0.090        0.3245          0.1305          0.0735   \n",
      "2303   0.580     0.455   0.120        0.9400          0.3990          0.2570   \n",
      "270    0.640     0.525   0.215        1.7790          0.4535          0.2855   \n",
      "3409   0.395     0.310   0.095        0.3130          0.1310          0.0720   \n",
      "3654   0.530     0.420   0.140        0.6765          0.2560          0.1855   \n",
      "\n",
      "      Shell weight   Age  Sex_F  Sex_I  Sex_M  \n",
      "2148         0.115   9.5    0.0    0.0    1.0  \n",
      "2303         0.265  12.5    1.0    0.0    0.0  \n",
      "270          0.550  23.5    1.0    0.0    0.0  \n",
      "3409         0.093   8.5    0.0    1.0    0.0  \n",
      "3654         0.208  10.5    0.0    1.0    0.0  \n",
      "\n",
      "First 5 rows of the scaled training set:\n",
      " [[-0.01  0.21 -0.12  0.01  0.31 -0.02 -0.43 -0.3   1.46 -0.68 -0.76]\n",
      " [-0.8  -0.85 -0.94 -0.96 -0.92 -0.91 -0.97 -0.92 -0.68  1.47 -0.76]\n",
      " [-0.59 -0.6  -0.83 -0.85 -0.9  -0.78 -0.69  0.31 -0.68 -0.68  1.32]\n",
      " [-2.68 -2.57 -2.24 -1.61 -1.55 -1.62 -1.61 -0.92 -0.68 -0.68  1.32]\n",
      " [ 0.53  0.56  0.47  0.54  0.64  0.64  0.38  0.93  1.46 -0.68 -0.76]]\n",
      "\n",
      "First 5 rows of the scaled testing set:\n",
      " [[-2.6  -2.47 -2.   -1.58 -1.51 -1.55 -1.59 -1.54 -0.68  1.47 -0.76]\n",
      " [ 0.66  0.51  0.7   0.58 -0.07  1.12  0.52  0.93  1.46 -0.68 -0.76]\n",
      " [ 1.37  1.32  0.35  1.26  1.17  1.17  1.06 -0.3   1.46 -0.68 -0.76]\n",
      " [ 1.03  0.91  0.7   1.15  1.48  1.24  0.58  0.31  1.46 -0.68 -0.76]\n",
      " [ 0.24  0.16 -0.    0.26  0.34  0.38 -0.01 -0.92  1.46 -0.68 -0.76]]\n",
      "\n",
      "First 5 rows of the scaled validation set:\n",
      " [[-9.28e-01 -1.01e+00 -1.18e+00 -1.04e+00 -1.04e+00 -9.96e-01 -8.99e-01\n",
      "  -6.13e-01 -6.83e-01 -6.79e-01  1.32e+00]\n",
      " [ 4.50e-01  4.59e-01 -4.74e-01  2.11e-01  1.61e-01  6.84e-01  1.69e-01\n",
      "   3.14e-01  1.46e+00 -6.79e-01 -7.60e-01]\n",
      " [ 9.51e-01  1.17e+00  1.76e+00  1.92e+00  4.05e-01  9.45e-01  2.20e+00\n",
      "   3.71e+00  1.46e+00 -6.79e-01 -7.60e-01]\n",
      " [-1.10e+00 -1.01e+00 -1.06e+00 -1.06e+00 -1.04e+00 -1.01e+00 -1.06e+00\n",
      "  -9.21e-01 -6.83e-01  1.47e+00 -7.60e-01]\n",
      " [ 3.22e-02  1.06e-01 -3.02e-03 -3.25e-01 -4.79e-01  2.94e-02 -2.37e-01\n",
      "  -3.04e-01 -6.83e-01  1.47e+00 -7.60e-01]]\n",
      "Training Set: 2923 samples\n",
      "Testing Set: 627 samples\n",
      "Validation Set: 627 samples\n"
     ]
    }
   ],
   "source": [
    "%run DataSplitting.ipynb\n",
    "import numpy as np\n",
    "import tensorflow as tf\n",
    "from tensorflow.keras.models import Sequential\n",
    "from tensorflow.keras.layers import Dense\n",
    "from tensorflow.keras.activations import linear, relu, sigmoid\n",
    "from tensorflow.keras.callbacks import EarlyStopping\n",
    "# %matplotlib widget\n",
    "import matplotlib.pyplot as plt\n",
    "\n",
    "import logging\n",
    "logging.getLogger(\"tensorflow\").setLevel(logging.ERROR)\n",
    "tf.autograph.set_verbosity(0)\n",
    "# from public_tests import *\n",
    "# from autils import *\n",
    "# from lab_utils_softmax import plt_softmax\n",
    "np.set_printoptions(precision=2)\n",
    "\n"
   ]
  },
  {
   "cell_type": "markdown",
   "metadata": {},
   "source": [
    "## Softmax Definition"
   ]
  },
  {
   "cell_type": "code",
   "execution_count": 273,
   "metadata": {},
   "outputs": [],
   "source": [
    "def my_softmax(z):\n",
    "    ### START CODE HERE ###\n",
    "    ez = np.exp(z)\n",
    "    a = ez/np.sum(ez)\n",
    "    ### END CODE HERE ###\n",
    "    return a"
   ]
  },
  {
   "cell_type": "markdown",
   "metadata": {},
   "source": [
    "## Model Declaration"
   ]
  },
  {
   "cell_type": "code",
   "execution_count": 274,
   "metadata": {},
   "outputs": [],
   "source": [
    "tf.random.set_random_seed(1234) # for consistent results\n",
    "model = Sequential(\n",
    "    [\n",
    "        ### START CODE HERE ###\n",
    "        tf.keras.layers.InputLayer((X_train.shape[1],)),\n",
    "        tf.keras.layers.Dense(3, activation=\"relu\", name=\"L1\"),\n",
    "        tf.keras.layers.Dense(3, activation=\"linear\", name=\"L2\")\n",
    "        ### END CODE HERE ###\n",
    "    ], name = \"my_model\"\n",
    ")\n",
    "model.compile(\n",
    "    loss=tf.keras.losses.SparseCategoricalCrossentropy(from_logits=True),\n",
    "    optimizer=tf.keras.optimizers.Adam(learning_rate=0.001),\n",
    ")\n"
   ]
  },
  {
   "cell_type": "code",
   "execution_count": 275,
   "metadata": {},
   "outputs": [
    {
     "name": "stdout",
     "output_type": "stream",
     "text": [
      "Model: \"my_model\"\n",
      "_________________________________________________________________\n",
      "Layer (type)                 Output Shape              Param #   \n",
      "=================================================================\n",
      "L1 (Dense)                   (None, 3)                 36        \n",
      "_________________________________________________________________\n",
      "L2 (Dense)                   (None, 3)                 12        \n",
      "=================================================================\n",
      "Total params: 48\n",
      "Trainable params: 48\n",
      "Non-trainable params: 0\n",
      "_________________________________________________________________\n"
     ]
    }
   ],
   "source": [
    "model.summary()"
   ]
  },
  {
   "cell_type": "markdown",
   "metadata": {},
   "source": [
    "# Examine Layer Weights"
   ]
  },
  {
   "cell_type": "code",
   "execution_count": 276,
   "metadata": {},
   "outputs": [
    {
     "name": "stdout",
     "output_type": "stream",
     "text": [
      "W1 shape = (11, 3), b1 shape = (3,)\n",
      "W2 shape = (3, 3), b2 shape = (3,)\n"
     ]
    }
   ],
   "source": [
    "[layer1, layer2] = model.layers\n",
    "#### Examine Weights shapes\n",
    "W1,b1 = layer1.get_weights()\n",
    "W2,b2 = layer2.get_weights()\n",
    "print(f\"W1 shape = {W1.shape}, b1 shape = {b1.shape}\")\n",
    "print(f\"W2 shape = {W2.shape}, b2 shape = {b2.shape}\")"
   ]
  },
  {
   "cell_type": "markdown",
   "metadata": {},
   "source": [
    "## Define Loss function"
   ]
  },
  {
   "cell_type": "code",
   "execution_count": 277,
   "metadata": {},
   "outputs": [
    {
     "name": "stdout",
     "output_type": "stream",
     "text": [
      "Train on 2923 samples, validate on 627 samples\n",
      "Epoch 1/100\n"
     ]
    },
    {
     "name": "stdout",
     "output_type": "stream",
     "text": [
      "2923/2923 [==============================] - 1s 450us/sample - loss: 1.0400 - val_loss: 0.9449\n",
      "Epoch 2/100\n",
      "2923/2923 [==============================] - 0s 22us/sample - loss: 0.8462 - val_loss: 0.7790\n",
      "Epoch 3/100\n",
      "2923/2923 [==============================] - 0s 21us/sample - loss: 0.7203 - val_loss: 0.6932\n",
      "Epoch 4/100\n",
      "2923/2923 [==============================] - 0s 25us/sample - loss: 0.6581 - val_loss: 0.6452\n",
      "Epoch 5/100\n",
      "2923/2923 [==============================] - 0s 25us/sample - loss: 0.6189 - val_loss: 0.6103\n",
      "Epoch 6/100\n",
      "2923/2923 [==============================] - 0s 28us/sample - loss: 0.5879 - val_loss: 0.5805\n",
      "Epoch 7/100\n",
      "2923/2923 [==============================] - 0s 34us/sample - loss: 0.5594 - val_loss: 0.5525\n",
      "Epoch 8/100\n",
      "2923/2923 [==============================] - 0s 24us/sample - loss: 0.5314 - val_loss: 0.5255\n",
      "Epoch 9/100\n",
      "2923/2923 [==============================] - 0s 23us/sample - loss: 0.5040 - val_loss: 0.4991\n",
      "Epoch 10/100\n",
      "2923/2923 [==============================] - 0s 22us/sample - loss: 0.4765 - val_loss: 0.4730\n",
      "Epoch 11/100\n",
      "2923/2923 [==============================] - 0s 22us/sample - loss: 0.4499 - val_loss: 0.4474\n",
      "Epoch 12/100\n",
      "2923/2923 [==============================] - 0s 21us/sample - loss: 0.4230 - val_loss: 0.4194\n",
      "Epoch 13/100\n",
      "2923/2923 [==============================] - 0s 22us/sample - loss: 0.3938 - val_loss: 0.3873\n",
      "Epoch 14/100\n",
      "2923/2923 [==============================] - 0s 22us/sample - loss: 0.3667 - val_loss: 0.3613\n",
      "Epoch 15/100\n",
      "2923/2923 [==============================] - 0s 21us/sample - loss: 0.3413 - val_loss: 0.3351\n",
      "Epoch 16/100\n",
      "2923/2923 [==============================] - 0s 21us/sample - loss: 0.3157 - val_loss: 0.3095\n",
      "Epoch 17/100\n",
      "2923/2923 [==============================] - 0s 23us/sample - loss: 0.2892 - val_loss: 0.2833\n",
      "Epoch 18/100\n",
      "2923/2923 [==============================] - 0s 22us/sample - loss: 0.2632 - val_loss: 0.2595\n",
      "Epoch 19/100\n",
      "2923/2923 [==============================] - 0s 22us/sample - loss: 0.2407 - val_loss: 0.2382\n",
      "Epoch 20/100\n",
      "2923/2923 [==============================] - 0s 21us/sample - loss: 0.2219 - val_loss: 0.2209\n",
      "Epoch 21/100\n",
      "2923/2923 [==============================] - 0s 21us/sample - loss: 0.2062 - val_loss: 0.2058\n",
      "Epoch 22/100\n",
      "2923/2923 [==============================] - 0s 21us/sample - loss: 0.1923 - val_loss: 0.1923\n",
      "Epoch 23/100\n",
      "2923/2923 [==============================] - 0s 21us/sample - loss: 0.1807 - val_loss: 0.1806\n",
      "Epoch 24/100\n",
      "2923/2923 [==============================] - 0s 21us/sample - loss: 0.1700 - val_loss: 0.1707\n",
      "Epoch 25/100\n",
      "2923/2923 [==============================] - 0s 22us/sample - loss: 0.1606 - val_loss: 0.1609\n",
      "Epoch 26/100\n",
      "2923/2923 [==============================] - 0s 22us/sample - loss: 0.1521 - val_loss: 0.1530\n",
      "Epoch 27/100\n",
      "2923/2923 [==============================] - 0s 22us/sample - loss: 0.1444 - val_loss: 0.1452\n",
      "Epoch 28/100\n",
      "2923/2923 [==============================] - 0s 21us/sample - loss: 0.1372 - val_loss: 0.1381\n",
      "Epoch 29/100\n",
      "2923/2923 [==============================] - 0s 22us/sample - loss: 0.1308 - val_loss: 0.1315\n",
      "Epoch 30/100\n",
      "2923/2923 [==============================] - 0s 22us/sample - loss: 0.1245 - val_loss: 0.1257\n",
      "Epoch 31/100\n",
      "2923/2923 [==============================] - 0s 21us/sample - loss: 0.1189 - val_loss: 0.1201\n",
      "Epoch 32/100\n",
      "2923/2923 [==============================] - 0s 23us/sample - loss: 0.1137 - val_loss: 0.1145\n",
      "Epoch 33/100\n",
      "2923/2923 [==============================] - 0s 22us/sample - loss: 0.1086 - val_loss: 0.1096\n",
      "Epoch 34/100\n",
      "2923/2923 [==============================] - 0s 24us/sample - loss: 0.1040 - val_loss: 0.1048\n",
      "Epoch 35/100\n",
      "2923/2923 [==============================] - 0s 25us/sample - loss: 0.0996 - val_loss: 0.1005\n",
      "Epoch 36/100\n",
      "2923/2923 [==============================] - 0s 22us/sample - loss: 0.0955 - val_loss: 0.0964\n",
      "Epoch 37/100\n",
      "2923/2923 [==============================] - 0s 23us/sample - loss: 0.0918 - val_loss: 0.0930\n",
      "Epoch 38/100\n",
      "2923/2923 [==============================] - 0s 23us/sample - loss: 0.0880 - val_loss: 0.0891\n",
      "Epoch 39/100\n",
      "2923/2923 [==============================] - 0s 22us/sample - loss: 0.0845 - val_loss: 0.0854\n",
      "Epoch 40/100\n",
      "2923/2923 [==============================] - 0s 22us/sample - loss: 0.0814 - val_loss: 0.0820\n",
      "Epoch 41/100\n",
      "2923/2923 [==============================] - 0s 22us/sample - loss: 0.0783 - val_loss: 0.0789\n",
      "Epoch 42/100\n",
      "2923/2923 [==============================] - 0s 22us/sample - loss: 0.0754 - val_loss: 0.0762\n",
      "Epoch 43/100\n",
      "2923/2923 [==============================] - 0s 22us/sample - loss: 0.0727 - val_loss: 0.0731\n",
      "Epoch 44/100\n",
      "2923/2923 [==============================] - 0s 22us/sample - loss: 0.0702 - val_loss: 0.0708\n",
      "Epoch 45/100\n",
      "2923/2923 [==============================] - 0s 21us/sample - loss: 0.0677 - val_loss: 0.0681\n",
      "Epoch 46/100\n",
      "2923/2923 [==============================] - 0s 21us/sample - loss: 0.0654 - val_loss: 0.0659\n",
      "Epoch 47/100\n",
      "2923/2923 [==============================] - 0s 21us/sample - loss: 0.0633 - val_loss: 0.0634\n",
      "Epoch 48/100\n",
      "2923/2923 [==============================] - 0s 23us/sample - loss: 0.0612 - val_loss: 0.0613\n",
      "Epoch 49/100\n",
      "2923/2923 [==============================] - 0s 22us/sample - loss: 0.0592 - val_loss: 0.0594\n",
      "Epoch 50/100\n",
      "2923/2923 [==============================] - 0s 25us/sample - loss: 0.0574 - val_loss: 0.0574\n",
      "Epoch 51/100\n",
      "2923/2923 [==============================] - 0s 28us/sample - loss: 0.0556 - val_loss: 0.0556\n",
      "Epoch 52/100\n",
      "2923/2923 [==============================] - 0s 25us/sample - loss: 0.0539 - val_loss: 0.0537\n",
      "Epoch 53/100\n",
      "2923/2923 [==============================] - 0s 23us/sample - loss: 0.0524 - val_loss: 0.0523\n",
      "Epoch 54/100\n",
      "2923/2923 [==============================] - 0s 22us/sample - loss: 0.0508 - val_loss: 0.0506\n",
      "Epoch 55/100\n",
      "2923/2923 [==============================] - 0s 23us/sample - loss: 0.0494 - val_loss: 0.0493\n",
      "Epoch 56/100\n",
      "2923/2923 [==============================] - 0s 22us/sample - loss: 0.0481 - val_loss: 0.0480\n",
      "Epoch 57/100\n",
      "2923/2923 [==============================] - 0s 21us/sample - loss: 0.0467 - val_loss: 0.0463\n",
      "Epoch 58/100\n",
      "2923/2923 [==============================] - 0s 21us/sample - loss: 0.0454 - val_loss: 0.0452\n",
      "Epoch 59/100\n",
      "2923/2923 [==============================] - 0s 22us/sample - loss: 0.0442 - val_loss: 0.0438\n",
      "Epoch 60/100\n",
      "2923/2923 [==============================] - 0s 22us/sample - loss: 0.0432 - val_loss: 0.0428\n",
      "Epoch 61/100\n",
      "2923/2923 [==============================] - 0s 22us/sample - loss: 0.0420 - val_loss: 0.0418\n",
      "Epoch 62/100\n",
      "2923/2923 [==============================] - 0s 21us/sample - loss: 0.0410 - val_loss: 0.0405\n",
      "Epoch 63/100\n",
      "2923/2923 [==============================] - 0s 29us/sample - loss: 0.0401 - val_loss: 0.0398\n",
      "Epoch 64/100\n",
      "2923/2923 [==============================] - 0s 30us/sample - loss: 0.0390 - val_loss: 0.0386\n",
      "Epoch 65/100\n",
      "2923/2923 [==============================] - 0s 30us/sample - loss: 0.0381 - val_loss: 0.0377\n",
      "Epoch 66/100\n",
      "2923/2923 [==============================] - 0s 28us/sample - loss: 0.0371 - val_loss: 0.0368\n",
      "Epoch 67/100\n",
      "2923/2923 [==============================] - 0s 24us/sample - loss: 0.0362 - val_loss: 0.0359\n",
      "Epoch 68/100\n",
      "2923/2923 [==============================] - 0s 22us/sample - loss: 0.0355 - val_loss: 0.0352\n",
      "Epoch 69/100\n",
      "2923/2923 [==============================] - 0s 21us/sample - loss: 0.0346 - val_loss: 0.0343\n",
      "Epoch 70/100\n",
      "2923/2923 [==============================] - 0s 22us/sample - loss: 0.0339 - val_loss: 0.0336\n",
      "Epoch 71/100\n",
      "2923/2923 [==============================] - 0s 22us/sample - loss: 0.0331 - val_loss: 0.0328\n",
      "Epoch 72/100\n",
      "2923/2923 [==============================] - 0s 23us/sample - loss: 0.0323 - val_loss: 0.0321\n",
      "Epoch 73/100\n",
      "2923/2923 [==============================] - 0s 23us/sample - loss: 0.0317 - val_loss: 0.0313\n",
      "Epoch 74/100\n",
      "2923/2923 [==============================] - 0s 24us/sample - loss: 0.0310 - val_loss: 0.0307\n",
      "Epoch 75/100\n",
      "2923/2923 [==============================] - 0s 26us/sample - loss: 0.0304 - val_loss: 0.0300\n",
      "Epoch 76/100\n",
      "2923/2923 [==============================] - 0s 35us/sample - loss: 0.0297 - val_loss: 0.0293\n",
      "Epoch 77/100\n",
      "2923/2923 [==============================] - 0s 28us/sample - loss: 0.0290 - val_loss: 0.0287\n",
      "Epoch 78/100\n",
      "2923/2923 [==============================] - 0s 26us/sample - loss: 0.0285 - val_loss: 0.0281\n",
      "Epoch 79/100\n",
      "2923/2923 [==============================] - 0s 24us/sample - loss: 0.0279 - val_loss: 0.0276\n",
      "Epoch 80/100\n",
      "2923/2923 [==============================] - 0s 23us/sample - loss: 0.0274 - val_loss: 0.0269\n",
      "Epoch 81/100\n",
      "2923/2923 [==============================] - 0s 22us/sample - loss: 0.0269 - val_loss: 0.0265\n",
      "Epoch 82/100\n",
      "2923/2923 [==============================] - 0s 22us/sample - loss: 0.0263 - val_loss: 0.0259\n",
      "Epoch 83/100\n",
      "2923/2923 [==============================] - 0s 21us/sample - loss: 0.0259 - val_loss: 0.0252\n",
      "Epoch 84/100\n",
      "2923/2923 [==============================] - 0s 23us/sample - loss: 0.0252 - val_loss: 0.0249\n",
      "Epoch 85/100\n",
      "2923/2923 [==============================] - 0s 24us/sample - loss: 0.0248 - val_loss: 0.0245\n",
      "Epoch 86/100\n",
      "2923/2923 [==============================] - 0s 24us/sample - loss: 0.0243 - val_loss: 0.0240\n",
      "Epoch 87/100\n",
      "2923/2923 [==============================] - 0s 23us/sample - loss: 0.0238 - val_loss: 0.0235\n",
      "Epoch 88/100\n",
      "2923/2923 [==============================] - 0s 23us/sample - loss: 0.0234 - val_loss: 0.0229\n",
      "Epoch 89/100\n",
      "2923/2923 [==============================] - 0s 23us/sample - loss: 0.0229 - val_loss: 0.0224\n",
      "Epoch 90/100\n",
      "2923/2923 [==============================] - 0s 22us/sample - loss: 0.0226 - val_loss: 0.0220\n",
      "Epoch 91/100\n",
      "2923/2923 [==============================] - 0s 23us/sample - loss: 0.0222 - val_loss: 0.0219\n",
      "Epoch 92/100\n",
      "2923/2923 [==============================] - 0s 24us/sample - loss: 0.0218 - val_loss: 0.0213\n",
      "Epoch 93/100\n",
      "2923/2923 [==============================] - 0s 30us/sample - loss: 0.0213 - val_loss: 0.0209\n",
      "Epoch 94/100\n",
      "2923/2923 [==============================] - 0s 24us/sample - loss: 0.0210 - val_loss: 0.0204\n",
      "Epoch 95/100\n",
      "2923/2923 [==============================] - 0s 25us/sample - loss: 0.0205 - val_loss: 0.0201\n",
      "Epoch 96/100\n",
      "2923/2923 [==============================] - 0s 25us/sample - loss: 0.0201 - val_loss: 0.0198\n",
      "Epoch 97/100\n",
      "2923/2923 [==============================] - 0s 27us/sample - loss: 0.0198 - val_loss: 0.0194\n",
      "Epoch 98/100\n",
      "2923/2923 [==============================] - 0s 30us/sample - loss: 0.0195 - val_loss: 0.0189\n",
      "Epoch 99/100\n",
      "2923/2923 [==============================] - 0s 30us/sample - loss: 0.0190 - val_loss: 0.0187\n",
      "Epoch 100/100\n",
      "2923/2923 [==============================] - 0s 30us/sample - loss: 0.0187 - val_loss: 0.0183\n"
     ]
    }
   ],
   "source": [
    "\n",
    "model.compile(\n",
    "    loss=tf.keras.losses.SparseCategoricalCrossentropy(from_logits=True),\n",
    "    optimizer=tf.keras.optimizers.Adam(learning_rate=0.001),\n",
    ")\n",
    "\n",
    "#y_train = [Age<8, Age>=8 && Age<15, Age>15]\n",
    "#y_train_classification=['young','middle-age','old']\n",
    "#y_train_encoded = [2,0,1]\n",
    "history = model.fit(\n",
    "    X_train_scaled, y_train_encoded,\n",
    "    validation_data=(X_val_scaled, y_val_encoded),\n",
    "    epochs=100,\n",
    "    batch_size=32\n",
    ")"
   ]
  },
  {
   "cell_type": "markdown",
   "metadata": {},
   "source": [
    "# Loss Plot"
   ]
  },
  {
   "cell_type": "code",
   "execution_count": 278,
   "metadata": {},
   "outputs": [
    {
     "data": {
      "image/png": "[encoded data removed]",
      "text/plain": [
       "<Figure size 640x480 with 1 Axes>"
      ]
     },
     "metadata": {},
     "output_type": "display_data"
    }
   ],
   "source": [
    "# Plot training & validation loss values\n",
    "plt.plot(history.history['loss'])\n",
    "plt.plot(history.history['val_loss'])\n",
    "plt.title('Model loss')\n",
    "plt.xlabel('Epoch')\n",
    "plt.ylabel('Loss')\n",
    "plt.legend(['Train', 'Validation'], loc='upper right')\n",
    "plt.show()"
   ]
  },
  {
   "cell_type": "code",
   "execution_count": 279,
   "metadata": {},
   "outputs": [],
   "source": [
    "## Tuning and Evaluation"
   ]
  },
  {
   "cell_type": "code",
   "execution_count": 280,
   "metadata": {},
   "outputs": [],
   "source": [
    "# def build_model(num_neurons):\n",
    "#     model_2 = Sequential([\n",
    "#         tf.keras.layers.InputLayer((11,)),\n",
    "#         tf.keras.layers.Dense(num_neurons, activation=\"relu\", name=\"L1\"),\n",
    "#         tf.keras.layers.Dense(3, activation=\"linear\", name=\"L2\")\n",
    "#     ], name=\"my_model_2\")\n",
    "\n",
    "#     model_2.compile(\n",
    "#         loss=tf.keras.losses.SparseCategoricalCrossentropy(from_logits=True),\n",
    "#         optimizer=tf.keras.optimizers.Adam(learning_rate=0.001),\n",
    "#     )\n",
    "\n",
    "#     return model_2\n",
    "# neuron_configs = [5, 10, 20, 50]\n",
    "# validation_losses = []\n",
    "\n",
    "# for num_neurons in neuron_configs:\n",
    "#     model_2 = build_model(num_neurons)\n",
    "#     #using early stopping to automatically stop training when the validation loss stops improving. This can prevent overfitting. \n",
    "#     early_stopping = EarlyStopping(monitor='val_loss', patience=5, restore_best_weights=True)\n",
    "\n",
    "#     history = model_2.fit(X_train_scaled, y_train_encoded, validation_data=(X_val_scaled, y_val_encoded), epochs=100, batch_size=32, callbacks=[early_stopping])\n",
    "#     # Evaluate and print performance metrics\n",
    "#     eval_metrics = model_2.evaluate(X_val_scaled, y_val_encoded)\n",
    "#     validation_loss = eval_metrics\n",
    "#     validation_losses.append((num_neurons, validation_loss))\n",
    "\n",
    "# # Sort and print validation losses\n",
    "# sorted_losses = sorted(validation_losses, key=lambda x: x[1])\n",
    "# for neurons, loss in sorted_losses:\n",
    "#     print(f\"Neurons: {neurons}, Validation Loss: {loss}\")"
   ]
  },
  {
   "cell_type": "markdown",
   "metadata": {},
   "source": [
    "## Prediction"
   ]
  },
  {
   "cell_type": "code",
   "execution_count": 281,
   "metadata": {},
   "outputs": [
    {
     "name": "stdout",
     "output_type": "stream",
     "text": [
      " Largest Prediction index: 2\n"
     ]
    }
   ],
   "source": [
    "\n",
    "#y_train = [Age<8, Age>=8 && Age<15, Age>15]\n",
    "#y_train_classification=['young','middle-age','old']\n",
    "#y_train_encoded = [2,0,1]\n",
    "\n",
    "age_of_index = X_test_scaled[300]\n",
    "prediction = model.predict(age_of_index.reshape(1,11))  # prediction\n",
    "print(f\" Largest Prediction index: {np.argmax(prediction)}\")"
   ]
  },
  {
   "cell_type": "markdown",
   "metadata": {},
   "source": [
    "## Probability of output with SoftMax"
   ]
  },
  {
   "cell_type": "code",
   "execution_count": 282,
   "metadata": {},
   "outputs": [
    {
     "name": "stdout",
     "output_type": "stream",
     "text": [
      "Probability vector:\n",
      "[[4.38e-09 1.34e-10 1.00e+00]]\n",
      "Total of predictions: 1.000\n",
      "Predicted Class Index: 2\n"
     ]
    }
   ],
   "source": [
    "prediction_p = tf.nn.softmax(prediction)\n",
    "\n",
    "with tf.compat.v1.Session() as sess:\n",
    "    prediction_p_np = prediction_p.eval()\n",
    "\n",
    "print(f\"Probability vector:\\n{prediction_p_np}\")\n",
    "print(f\"Total of predictions: {np.sum(prediction_p_np):0.3f}\")\n",
    "\n",
    "\n",
    "predicted_class = np.argmax(prediction_p_np)\n",
    "print(f\"Predicted Class Index: {predicted_class}\")\n"
   ]
  },
  {
   "cell_type": "markdown",
   "metadata": {},
   "source": [
    "## Unmatched Prediction and Real Value"
   ]
  },
  {
   "cell_type": "code",
   "execution_count": 283,
   "metadata": {},
   "outputs": [
    {
     "name": "stdout",
     "output_type": "stream",
     "text": [
      "Accuracy: 100.00%\n"
     ]
    }
   ],
   "source": [
    "y_pred = model.predict(X_test_scaled)  \n",
    "# Get the predicted class labels\n",
    "predicted_classes = np.argmax(y_pred, axis=1)\n",
    "# Find indices where predictions don't match true labels\n",
    "incorrect_indices = np.where(predicted_classes != y_test_encoded)[0]\n",
    "# Store incorrect predictions for later printing\n",
    "incorrect_predictions = []\n",
    "# Print out the ages and corresponding predictions for the incorrect instances\n",
    "for index in incorrect_indices:\n",
    "    age = y_test_encoded[index]\n",
    "    prediction = predicted_classes[index]\n",
    "    incorrect_predictions.append((index, age, prediction))\n",
    "    print(f\"Index: {index}, True Age: {age}, Predicted Age: {prediction}\")\n",
    "# Calculate accuracy\n",
    "accuracy = np.sum(predicted_classes == y_test_encoded) / len(y_test_encoded)\n",
    "print(f\"Accuracy: {accuracy * 100:.2f}%\")\n",
    "\n",
    "# Print detailed information about incorrect predictions\n",
    "# print(\"\\nIncorrect Predictions:\")\n",
    "# for index, true_age, predicted_age in incorrect_predictions:\n",
    "#     print(f\"Index: {index}, True Age: {true_age}, Predicted Age: {predicted_age}\")\n"
   ]
  }
 ],
 "metadata": {
  "kernelspec": {
   "display_name": "eltajenv",
   "language": "python",
   "name": "python3"
  },
  "language_info": {
   "codemirror_mode": {
    "name": "ipython",
    "version": 3
   },
   "file_extension": ".py",
   "mimetype": "text/x-python",
   "name": "python",
   "nbconvert_exporter": "python",
   "pygments_lexer": "ipython3",
   "version": "3.7.12"
  }
 },
 "nbformat": 4,
 "nbformat_minor": 4
}
