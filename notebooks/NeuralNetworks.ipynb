{
 "cells": [
  {
   "cell_type": "markdown",
   "metadata": {},
   "source": [
    "## Neural Network Multiple Multiclass"
   ]
  },
  {
   "cell_type": "code",
   "execution_count": 15,
   "metadata": {},
   "outputs": [
    {
     "name": "stdout",
     "output_type": "stream",
     "text": [
      "Training set: (2923, 11) (2923,)\n",
      "Testing set: (627, 11) (627,)\n",
      "Validation set: (627, 11) (627,)\n",
      "\n",
      "Training set:\n",
      "      Length  Diameter  Height  Whole weight  Shucked weight  Viscera weight  \\\n",
      "2830   0.525     0.430   0.135        0.8435          0.4325          0.1800   \n",
      "925    0.430     0.325   0.100        0.3645          0.1575          0.0825   \n",
      "3845   0.455     0.350   0.105        0.4160          0.1625          0.0970   \n",
      "547    0.205     0.155   0.045        0.0425          0.0170          0.0055   \n",
      "2259   0.590     0.465   0.160        1.1005          0.5060          0.2525   \n",
      "\n",
      "      Shell weight   Age  Sex_F  Sex_I  Sex_M  \n",
      "2830        0.1815  10.5    1.0    0.0    0.0  \n",
      "925         0.1050   8.5    0.0    1.0    0.0  \n",
      "3845        0.1450  12.5    0.0    0.0    1.0  \n",
      "547         0.0155   8.5    0.0    0.0    1.0  \n",
      "2259        0.2950  14.5    1.0    0.0    0.0  \n",
      "\n",
      "Testing set:\n",
      "      Length  Diameter  Height  Whole weight  Shucked weight  Viscera weight  \\\n",
      "3142   0.215     0.165   0.055        0.0590          0.0265          0.0125   \n",
      "752    0.605     0.460   0.170        1.1220          0.3470          0.3045   \n",
      "1188   0.690     0.540   0.155        1.4540          0.6240          0.3105   \n",
      "3740   0.650     0.500   0.170        1.4045          0.6940          0.3180   \n",
      "2586   0.555     0.425   0.140        0.9630          0.4400          0.2240   \n",
      "\n",
      "      Shell weight   Age  Sex_F  Sex_I  Sex_M  \n",
      "3142        0.0185   6.5    0.0    1.0    0.0  \n",
      "752         0.3150  14.5    1.0    0.0    0.0  \n",
      "1188        0.3900  10.5    1.0    0.0    0.0  \n",
      "3740        0.3235  12.5    1.0    0.0    0.0  \n",
      "2586        0.2400   8.5    1.0    0.0    0.0  \n",
      "\n",
      "Validation set:\n",
      "      Length  Diameter  Height  Whole weight  Shucked weight  Viscera weight  \\\n",
      "2148   0.415     0.310   0.090        0.3245          0.1305          0.0735   \n",
      "2303   0.580     0.455   0.120        0.9400          0.3990          0.2570   \n",
      "270    0.640     0.525   0.215        1.7790          0.4535          0.2855   \n",
      "3409   0.395     0.310   0.095        0.3130          0.1310          0.0720   \n",
      "3654   0.530     0.420   0.140        0.6765          0.2560          0.1855   \n",
      "\n",
      "      Shell weight   Age  Sex_F  Sex_I  Sex_M  \n",
      "2148         0.115   9.5    0.0    0.0    1.0  \n",
      "2303         0.265  12.5    1.0    0.0    0.0  \n",
      "270          0.550  23.5    1.0    0.0    0.0  \n",
      "3409         0.093   8.5    0.0    1.0    0.0  \n",
      "3654         0.208  10.5    0.0    1.0    0.0  \n",
      "\n",
      "First 5 rows of the scaled training set:\n",
      " [[-0.01  0.21 -0.12  0.01  0.31 -0.02 -0.43 -0.3   1.46 -0.68 -0.76]\n",
      " [-0.8  -0.85 -0.94 -0.96 -0.92 -0.91 -0.97 -0.92 -0.68  1.47 -0.76]\n",
      " [-0.59 -0.6  -0.83 -0.85 -0.9  -0.78 -0.69  0.31 -0.68 -0.68  1.32]\n",
      " [-2.68 -2.57 -2.24 -1.61 -1.55 -1.62 -1.61 -0.92 -0.68 -0.68  1.32]\n",
      " [ 0.53  0.56  0.47  0.54  0.64  0.64  0.38  0.93  1.46 -0.68 -0.76]]\n",
      "\n",
      "First 5 rows of the scaled testing set:\n",
      " [[-2.6  -2.47 -2.   -1.58 -1.51 -1.55 -1.59 -1.54 -0.68  1.47 -0.76]\n",
      " [ 0.66  0.51  0.7   0.58 -0.07  1.12  0.52  0.93  1.46 -0.68 -0.76]\n",
      " [ 1.37  1.32  0.35  1.26  1.17  1.17  1.06 -0.3   1.46 -0.68 -0.76]\n",
      " [ 1.03  0.91  0.7   1.15  1.48  1.24  0.58  0.31  1.46 -0.68 -0.76]\n",
      " [ 0.24  0.16 -0.    0.26  0.34  0.38 -0.01 -0.92  1.46 -0.68 -0.76]]\n",
      "\n",
      "First 5 rows of the scaled validation set:\n",
      " [[-9.28e-01 -1.01e+00 -1.18e+00 -1.04e+00 -1.04e+00 -9.96e-01 -8.99e-01\n",
      "  -6.13e-01 -6.83e-01 -6.79e-01  1.32e+00]\n",
      " [ 4.50e-01  4.59e-01 -4.74e-01  2.11e-01  1.61e-01  6.84e-01  1.69e-01\n",
      "   3.14e-01  1.46e+00 -6.79e-01 -7.60e-01]\n",
      " [ 9.51e-01  1.17e+00  1.76e+00  1.92e+00  4.05e-01  9.45e-01  2.20e+00\n",
      "   3.71e+00  1.46e+00 -6.79e-01 -7.60e-01]\n",
      " [-1.10e+00 -1.01e+00 -1.06e+00 -1.06e+00 -1.04e+00 -1.01e+00 -1.06e+00\n",
      "  -9.21e-01 -6.83e-01  1.47e+00 -7.60e-01]\n",
      " [ 3.22e-02  1.06e-01 -3.02e-03 -3.25e-01 -4.79e-01  2.94e-02 -2.37e-01\n",
      "  -3.04e-01 -6.83e-01  1.47e+00 -7.60e-01]]\n",
      "Training Set: 2923 samples\n",
      "Testing Set: 627 samples\n",
      "Validation Set: 627 samples\n"
     ]
    },
    {
     "name": "stderr",
     "output_type": "stream",
     "text": [
      "c:\\Python311\\Lib\\site-packages\\sklearn\\preprocessing\\_encoders.py:975: FutureWarning: `sparse` was renamed to `sparse_output` in version 1.2 and will be removed in 1.4. `sparse_output` is ignored unless you leave `sparse` to its default value.\n",
      "  warnings.warn(\n"
     ]
    }
   ],
   "source": [
    "%run DataSplitting.ipynb\n",
    "import numpy as np\n",
    "import tensorflow as tf\n",
    "from tensorflow.keras.models import Sequential\n",
    "from tensorflow.keras.layers import Dense\n",
    "from tensorflow.keras.activations import linear, relu, sigmoid\n",
    "from tensorflow.keras.callbacks import EarlyStopping\n",
    "# %matplotlib widget\n",
    "import matplotlib.pyplot as plt\n",
    "from sklearn.metrics import confusion_matrix\n",
    "import seaborn as sns\n",
    "import logging\n",
    "logging.getLogger(\"tensorflow\").setLevel(logging.ERROR)\n",
    "tf.autograph.set_verbosity(0)\n",
    "# from public_tests import *\n",
    "# from autils import *\n",
    "# from lab_utils_softmax import plt_softmax\n",
    "np.set_printoptions(precision=2)\n",
    "\n"
   ]
  },
  {
   "cell_type": "markdown",
   "metadata": {},
   "source": [
    "## Softmax Definition"
   ]
  },
  {
   "cell_type": "code",
   "execution_count": 16,
   "metadata": {},
   "outputs": [],
   "source": [
    "def my_softmax(z):\n",
    "    ### CODE ASSIGNMENT STARTS HERE ###\n",
    "    ez = np.exp(z)\n",
    "    a = ez/np.sum(ez)\n",
    "    ### CODE ASSIGNMENTS END HERE ###\n",
    "    return a"
   ]
  },
  {
   "cell_type": "markdown",
   "metadata": {},
   "source": [
    "## Model Declaration"
   ]
  },
  {
   "cell_type": "code",
   "execution_count": 17,
   "metadata": {},
   "outputs": [],
   "source": [
    "#tf.random.set_random_seed(1234) # for consistent results\n",
    "model = Sequential(\n",
    "    [\n",
    "        ### START CODE HERE ###\n",
    "        tf.keras.layers.InputLayer((X_train.shape[1],)),\n",
    "        tf.keras.layers.Dense(20, activation=\"relu\", name=\"L1\"),\n",
    "        tf.keras.layers.Dense(3, activation=\"softmax\", name=\"L2\")\n",
    "        ### END CODE HERE ###\n",
    "    ], name = \"my_model\"\n",
    ")\n",
    "# model.compile(\n",
    "#     loss=tf.keras.losses.SparseCategoricalCrossentropy(from_logits=True),\n",
    "#     optimizer=tf.keras.optimizers.Adam(learning_rate=0.001),\n",
    "# )\n"
   ]
  },
  {
   "cell_type": "code",
   "execution_count": 18,
   "metadata": {},
   "outputs": [
    {
     "name": "stdout",
     "output_type": "stream",
     "text": [
      "Model: \"my_model\"\n",
      "_________________________________________________________________\n",
      " Layer (type)                Output Shape              Param #   \n",
      "=================================================================\n",
      " L1 (Dense)                  (None, 20)                240       \n",
      "                                                                 \n",
      " L2 (Dense)                  (None, 3)                 63        \n",
      "                                                                 \n",
      "=================================================================\n",
      "Total params: 303 (1.18 KB)\n",
      "Trainable params: 303 (1.18 KB)\n",
      "Non-trainable params: 0 (0.00 Byte)\n",
      "_________________________________________________________________\n"
     ]
    }
   ],
   "source": [
    "model.summary()"
   ]
  },
  {
   "cell_type": "markdown",
   "metadata": {},
   "source": [
    "# Examine Layer Weights"
   ]
  },
  {
   "cell_type": "code",
   "execution_count": 19,
   "metadata": {},
   "outputs": [
    {
     "name": "stdout",
     "output_type": "stream",
     "text": [
      "W1 shape = (11, 20), b1 shape = (20,)\n",
      "W2 shape = (20, 3), b2 shape = (3,)\n"
     ]
    }
   ],
   "source": [
    "[layer1, layer2] = model.layers\n",
    "#### Examine Weights shapes\n",
    "W1,b1 = layer1.get_weights()\n",
    "W2,b2 = layer2.get_weights()\n",
    "print(f\"W1 shape = {W1.shape}, b1 shape = {b1.shape}\")\n",
    "print(f\"W2 shape = {W2.shape}, b2 shape = {b2.shape}\")"
   ]
  },
  {
   "cell_type": "markdown",
   "metadata": {},
   "source": [
    "## Define Loss function"
   ]
  },
  {
   "cell_type": "code",
   "execution_count": 20,
   "metadata": {},
   "outputs": [
    {
     "name": "stdout",
     "output_type": "stream",
     "text": [
      "Epoch 1/30\n"
     ]
    },
    {
     "name": "stdout",
     "output_type": "stream",
     "text": [
      "92/92 [==============================] - 0s 2ms/step - loss: 0.8815 - val_loss: 0.6486\n",
      "Epoch 2/30\n",
      "92/92 [==============================] - 0s 1ms/step - loss: 0.5560 - val_loss: 0.5026\n",
      "Epoch 3/30\n",
      "92/92 [==============================] - 0s 1ms/step - loss: 0.4513 - val_loss: 0.4188\n",
      "Epoch 4/30\n",
      "92/92 [==============================] - 0s 1ms/step - loss: 0.3777 - val_loss: 0.3548\n",
      "Epoch 5/30\n",
      "92/92 [==============================] - 0s 1ms/step - loss: 0.3172 - val_loss: 0.2996\n",
      "Epoch 6/30\n",
      "92/92 [==============================] - 0s 1ms/step - loss: 0.2697 - val_loss: 0.2594\n",
      "Epoch 7/30\n",
      "92/92 [==============================] - 0s 1ms/step - loss: 0.2341 - val_loss: 0.2304\n",
      "Epoch 8/30\n",
      "92/92 [==============================] - 0s 1ms/step - loss: 0.2072 - val_loss: 0.2038\n",
      "Epoch 9/30\n",
      "92/92 [==============================] - 0s 1ms/step - loss: 0.1845 - val_loss: 0.1851\n",
      "Epoch 10/30\n",
      "92/92 [==============================] - 0s 1ms/step - loss: 0.1656 - val_loss: 0.1692\n",
      "Epoch 11/30\n",
      "92/92 [==============================] - 0s 1ms/step - loss: 0.1491 - val_loss: 0.1534\n",
      "Epoch 12/30\n",
      "92/92 [==============================] - 0s 1ms/step - loss: 0.1355 - val_loss: 0.1407\n",
      "Epoch 13/30\n",
      "92/92 [==============================] - 0s 1ms/step - loss: 0.1233 - val_loss: 0.1289\n",
      "Epoch 14/30\n",
      "92/92 [==============================] - 0s 1ms/step - loss: 0.1118 - val_loss: 0.1186\n",
      "Epoch 15/30\n",
      "92/92 [==============================] - 0s 1ms/step - loss: 0.1023 - val_loss: 0.1087\n",
      "Epoch 16/30\n",
      "92/92 [==============================] - 0s 1ms/step - loss: 0.0939 - val_loss: 0.1014\n",
      "Epoch 17/30\n",
      "92/92 [==============================] - 0s 1ms/step - loss: 0.0861 - val_loss: 0.0945\n",
      "Epoch 18/30\n",
      "92/92 [==============================] - 0s 1ms/step - loss: 0.0788 - val_loss: 0.0867\n",
      "Epoch 19/30\n",
      "92/92 [==============================] - 0s 1ms/step - loss: 0.0722 - val_loss: 0.0802\n",
      "Epoch 20/30\n",
      "92/92 [==============================] - 0s 1ms/step - loss: 0.0664 - val_loss: 0.0753\n",
      "Epoch 21/30\n",
      "92/92 [==============================] - 0s 1ms/step - loss: 0.0611 - val_loss: 0.0701\n",
      "Epoch 22/30\n",
      "92/92 [==============================] - 0s 1ms/step - loss: 0.0565 - val_loss: 0.0654\n",
      "Epoch 23/30\n",
      "92/92 [==============================] - 0s 1ms/step - loss: 0.0524 - val_loss: 0.0606\n",
      "Epoch 24/30\n",
      "92/92 [==============================] - 0s 1ms/step - loss: 0.0487 - val_loss: 0.0575\n",
      "Epoch 25/30\n",
      "92/92 [==============================] - 0s 1ms/step - loss: 0.0450 - val_loss: 0.0539\n",
      "Epoch 26/30\n",
      "92/92 [==============================] - 0s 1ms/step - loss: 0.0419 - val_loss: 0.0512\n",
      "Epoch 27/30\n",
      "92/92 [==============================] - 0s 1ms/step - loss: 0.0395 - val_loss: 0.0486\n",
      "Epoch 28/30\n",
      "92/92 [==============================] - 0s 1ms/step - loss: 0.0371 - val_loss: 0.0455\n",
      "Epoch 29/30\n",
      "92/92 [==============================] - 0s 1ms/step - loss: 0.0346 - val_loss: 0.0438\n",
      "Epoch 30/30\n",
      "92/92 [==============================] - 0s 1ms/step - loss: 0.0326 - val_loss: 0.0418\n"
     ]
    }
   ],
   "source": [
    "\n",
    "model.compile(\n",
    "    loss=tf.keras.losses.SparseCategoricalCrossentropy(),\n",
    "    optimizer=tf.keras.optimizers.Adam(learning_rate=0.001),\n",
    ")\n",
    "early_stopping = EarlyStopping(monitor='val_loss', patience=3, restore_best_weights=True)\n",
    "#y_train = [Age<8, Age>=8 && Age<15, Age>15]\n",
    "#y_train_classification=['young','middle-age','old']\n",
    "#y_train_encoded = [2,0,1]\n",
    "history = model.fit(\n",
    "    X_train_scaled, y_train_encoded,\n",
    "    validation_data=(X_val_scaled, y_val_encoded),\n",
    "    epochs=30,\n",
    "    batch_size=32, \n",
    "    callbacks=[early_stopping]\n",
    ")"
   ]
  },
  {
   "cell_type": "markdown",
   "metadata": {},
   "source": [
    "# Loss Plot"
   ]
  },
  {
   "cell_type": "code",
   "execution_count": 21,
   "metadata": {},
   "outputs": [
    {
     "data": {
      "image/png": "[encoded data removed]",
      "text/plain": [
       "<Figure size 640x480 with 1 Axes>"
      ]
     },
     "metadata": {},
     "output_type": "display_data"
    }
   ],
   "source": [
    "# Plot training & validation loss values\n",
    "plt.plot(history.history['loss'])\n",
    "plt.plot(history.history['val_loss'])\n",
    "plt.title('Model loss with SGD')\n",
    "plt.xlabel('Epoch')\n",
    "plt.ylabel('Loss')\n",
    "plt.legend(['Train', 'Validation'], loc='upper right')\n",
    "plt.show()"
   ]
  },
  {
   "cell_type": "code",
   "execution_count": 22,
   "metadata": {},
   "outputs": [
    {
     "name": "stdout",
     "output_type": "stream",
     "text": [
      "{'verbose': 1, 'epochs': 30, 'steps': 92}\n"
     ]
    }
   ],
   "source": [
    "print(history.params)"
   ]
  },
  {
   "cell_type": "markdown",
   "metadata": {},
   "source": [
    "## Tuning and Evaluation"
   ]
  },
  {
   "cell_type": "code",
   "execution_count": 23,
   "metadata": {},
   "outputs": [],
   "source": [
    "# def build_model(num_neurons):\n",
    "#     model_2 = Sequential([\n",
    "#         tf.keras.layers.InputLayer((X_train.shape[1],)),\n",
    "#         tf.keras.layers.Dense(num_neurons, activation=\"relu\", name=\"L1\"),\n",
    "#         tf.keras.layers.Dense(3, activation=\"softmax\", name=\"L2\")\n",
    "#     ], name=\"my_model_2\")\n",
    "\n",
    "#     model_2.compile(\n",
    "#          loss=tf.keras.losses.SparseCategoricalCrossentropy(),\n",
    "#          optimizer=tf.keras.optimizers.Adam(learning_rate=0.001),\n",
    "#     )\n",
    "\n",
    "#     return model_2\n",
    "# neuron_configs = [5, 10, 20, 30, 50]\n",
    "# validation_losses = []\n",
    "\n",
    "\n",
    "# for num_neurons in neuron_configs:\n",
    "#     model_2 = build_model(num_neurons)\n",
    "#     #using early stopping to automatically stop training when the validation loss stops improving. This can prevent overfitting. \n",
    "#     early_stopping = EarlyStopping(monitor='val_loss', patience=3, restore_best_weights=True)\n",
    "\n",
    "#     history = model_2.fit(X_train_scaled, y_train_encoded, validation_data=(X_val_scaled, y_val_encoded), epochs=30, batch_size=32, callbacks=[early_stopping])\n",
    "#     # Evaluate and print performance metrics\n",
    "#     eval_metrics = model_2.evaluate(X_val_scaled, y_val_encoded)\n",
    "#     validation_loss = eval_metrics\n",
    "#     validation_losses.append((num_neurons, validation_loss))\n",
    "\n",
    "# # Sort and print validation losses\n",
    "# sorted_losses = sorted(validation_losses, key=lambda x: x[1])\n",
    "# for neurons, loss in sorted_losses:\n",
    "#     print(f\"Neurons: {neurons}, Validation Loss: {loss}\")"
   ]
  },
  {
   "cell_type": "markdown",
   "metadata": {},
   "source": [
    "## Prediction"
   ]
  },
  {
   "cell_type": "code",
   "execution_count": 24,
   "metadata": {},
   "outputs": [
    {
     "name": "stdout",
     "output_type": "stream",
     "text": [
      "1/1 [==============================] - 0s 37ms/step\n",
      " predicting: \n",
      "[[6.26e-06 2.80e-07 1.00e+00]]\n",
      " Largest Prediction index: 2\n"
     ]
    }
   ],
   "source": [
    "\n",
    "#y_train = [Age<8, Age>=8 && Age<15, Age>15]\n",
    "#y_train_classification=['young','middle-age','old']\n",
    "#y_train_encoded = [2,0,1]\n",
    "\n",
    "age_of_index = X_test_scaled[300]\n",
    "prediction = model.predict(age_of_index.reshape(1,11))  # prediction\n",
    "print(f\" predicting: \\n{prediction}\")\n",
    "print(f\" Largest Prediction index: {np.argmax(prediction)}\")"
   ]
  },
  {
   "cell_type": "markdown",
   "metadata": {},
   "source": [
    "## Probability of output with SoftMax"
   ]
  },
  {
   "cell_type": "code",
   "execution_count": 25,
   "metadata": {},
   "outputs": [],
   "source": [
    "# prediction_p = tf.nn.softmax(prediction)\n",
    "\n",
    "# with tf.compat.v1.Session() as sess:\n",
    "#     prediction_p_np = prediction_p.eval()\n",
    "\n",
    "# print(f\"Probability vector:\\n{prediction_p_np}\")\n",
    "# print(f\"Total of predictions: {np.sum(prediction_p_np):0.3f}\")\n",
    "\n",
    "\n",
    "# predicted_class = np.argmax(prediction_p_np)\n",
    "# print(f\"Predicted Class Index: {predicted_class}\")\n"
   ]
  },
  {
   "cell_type": "markdown",
   "metadata": {},
   "source": [
    "## Unmatched Prediction and Real Value"
   ]
  },
  {
   "cell_type": "code",
   "execution_count": 26,
   "metadata": {},
   "outputs": [
    {
     "name": "stdout",
     "output_type": "stream",
     "text": [
      "20/20 [==============================] - 0s 713us/step\n",
      "Accuracy: 99.68%\n"
     ]
    }
   ],
   "source": [
    "y_pred=model.predict(X_test_scaled)  \n",
    "# Get the predicted class labels\n",
    "predicted_classes = np.argmax(y_pred, axis=1)\n",
    "# Find indices where predictions don't match true labels\n",
    "incorrect_indices = np.where(predicted_classes != y_test_encoded)[0]\n",
    "# Store incorrect predictions for later printing\n",
    "incorrect_predictions = []\n",
    "# Print out the ages and corresponding predictions for the incorrect instances\n",
    "for index in incorrect_indices:\n",
    "    age = y_test_encoded[index]\n",
    "    prediction = predicted_classes[index]\n",
    "    incorrect_predictions.append((index, age, prediction))\n",
    "    # print(f\"Index: {index}, True Age: {age}, Predicted Age: {prediction}\")\n",
    "# Calculate accuracy\n",
    "accuracy = np.sum(predicted_classes == y_test_encoded) / len(y_test_encoded)\n",
    "print(f\"Accuracy: {accuracy * 100:.2f}%\")\n",
    "\n",
    "# Print detailed information about incorrect predictions\n",
    "# print(\"\\nIncorrect Predictions:\")\n",
    "# for index, true_age, predicted_age in incorrect_predictions:\n",
    "#     print(f\"Index: {index}, True Age: {true_age}, Predicted Age: {predicted_age}\")"
   ]
  },
  {
   "cell_type": "markdown",
   "metadata": {},
   "source": [
    "## Confusion Matrix"
   ]
  },
  {
   "cell_type": "code",
   "execution_count": 27,
   "metadata": {},
   "outputs": [
    {
     "data": {
      "image/png": "[encoded data removed]",
      "text/plain": [
       "<Figure size 400x300 with 1 Axes>"
      ]
     },
     "metadata": {},
     "output_type": "display_data"
    }
   ],
   "source": [
    "conf_matrix = confusion_matrix(y_test_encoded, predicted_classes)\n",
    "#y_train = [Age<8, Age>=8 && Age<15, Age>15]\n",
    "#y_train_classification=['young','middle-age','old']\n",
    "#y_train_encoded = [2,0,1]\n",
    "# Plot confusion matrix using seaborn\n",
    "plt.figure(figsize=(4,3))\n",
    "sns.heatmap(conf_matrix, annot=True, fmt='d', cmap='Reds', cbar=False,\n",
    "            xticklabels=['middle-age', 'old', 'young'],\n",
    "            yticklabels=['middle-age', 'old', 'young'])\n",
    "plt.xlabel('Predicted')\n",
    "plt.ylabel('Actual')\n",
    "plt.title('Confusion Matrix with SGD')\n",
    "plt.show()"
   ]
  },
  {
   "cell_type": "markdown",
   "metadata": {},
   "source": [
    "## Cross Validation"
   ]
  },
  {
   "cell_type": "code",
   "execution_count": 28,
   "metadata": {},
   "outputs": [
    {
     "name": "stdout",
     "output_type": "stream",
     "text": [
      "Score for fold 1: loss of 0.03126893192529678; accuracy of 99.57746267318726%\n",
      "Score for fold 2: loss of 0.0536775141954422; accuracy of 99.29577708244324%\n",
      "Score for fold 3: loss of 0.049345578998327255; accuracy of 99.57746267318726%\n",
      "Score for fold 4: loss of 0.0345807746052742; accuracy of 99.7183084487915%\n",
      "Score for fold 5: loss of 0.0326550267636776; accuracy of 100.0%\n",
      "------------------------------------------------------------------------\n",
      "Score per fold\n",
      "------------------------------------------------------------------------\n",
      "> Fold 1 - Loss: 0.03126893192529678 - Accuracy: 99.57746267318726%\n",
      "------------------------------------------------------------------------\n",
      "> Fold 2 - Loss: 0.0536775141954422 - Accuracy: 99.29577708244324%\n",
      "------------------------------------------------------------------------\n",
      "> Fold 3 - Loss: 0.049345578998327255 - Accuracy: 99.57746267318726%\n",
      "------------------------------------------------------------------------\n",
      "> Fold 4 - Loss: 0.0345807746052742 - Accuracy: 99.7183084487915%\n",
      "------------------------------------------------------------------------\n",
      "> Fold 5 - Loss: 0.0326550267636776 - Accuracy: 100.0%\n",
      "------------------------------------------------------------------------\n",
      "Average scores for all folds:\n",
      "> Accuracy: 99.63380217552185 (+- 0.2288455371956725)\n",
      "> Loss: 0.04030556529760361\n",
      "------------------------------------------------------------------------\n"
     ]
    }
   ],
   "source": [
    "from sklearn.model_selection import KFold\n",
    "from tensorflow.keras.models import Sequential\n",
    "from tensorflow.keras.layers import Dense\n",
    "from tensorflow.keras.optimizers import Adam\n",
    "from tensorflow.keras.losses import SparseCategoricalCrossentropy\n",
    "import numpy as np\n",
    "\n",
    "# Combine training and validation sets for cross-validation\n",
    "X_combined = np.concatenate((X_train_scaled, X_val_scaled), axis=0)\n",
    "y_combined = np.concatenate((y_train_encoded, y_val_encoded), axis=0)\n",
    "\n",
    "# Define the K-fold Cross Validator\n",
    "num_folds = 5\n",
    "kfold = KFold(n_splits=num_folds, shuffle=True)\n",
    "\n",
    "# K-fold Cross Validation model evaluation\n",
    "fold_no = 1\n",
    "acc_per_fold = []\n",
    "loss_per_fold = []\n",
    "\n",
    "for train, test in kfold.split(X_combined, y_combined):\n",
    "    # Define the model architecture\n",
    "    model = Sequential([\n",
    "        Dense(20, activation='relu', input_shape=(X_combined.shape[1],)),\n",
    "        Dense(3, activation='softmax')\n",
    "    ])\n",
    "\n",
    "    # Compile the model\n",
    "    model.compile(loss=SparseCategoricalCrossentropy(),\n",
    "                  optimizer=Adam(learning_rate=0.001),\n",
    "                  metrics=['accuracy'])\n",
    "    \n",
    "    # Fit data to model\n",
    "    history = model.fit(X_combined[train], y_combined[train],\n",
    "                        batch_size=32,\n",
    "                        epochs=30,\n",
    "                        verbose=0)\n",
    "\n",
    "    # Generate generalization metrics\n",
    "    scores = model.evaluate(X_combined[test], y_combined[test], verbose=0)\n",
    "    print(f'Score for fold {fold_no}: {model.metrics_names[0]} of {scores[0]}; {model.metrics_names[1]} of {scores[1]*100}%')\n",
    "    acc_per_fold.append(scores[1] * 100)\n",
    "    loss_per_fold.append(scores[0])\n",
    "    fold_no += 1\n",
    "\n",
    "# == Provide average scores ==\n",
    "print('------------------------------------------------------------------------')\n",
    "print('Score per fold')\n",
    "for i in range(0, len(acc_per_fold)):\n",
    "  print('------------------------------------------------------------------------')\n",
    "  print(f'> Fold {i+1} - Loss: {loss_per_fold[i]} - Accuracy: {acc_per_fold[i]}%')\n",
    "print('------------------------------------------------------------------------')\n",
    "print('Average scores for all folds:')\n",
    "print(f'> Accuracy: {np.mean(acc_per_fold)} (+- {np.std(acc_per_fold)})')\n",
    "print(f'> Loss: {np.mean(loss_per_fold)}')\n",
    "print('------------------------------------------------------------------------')\n"
   ]
  }
 ],
 "metadata": {
  "kernelspec": {
   "display_name": "eltajenv",
   "language": "python",
   "name": "python3"
  },
  "language_info": {
   "codemirror_mode": {
    "name": "ipython",
    "version": 3
   },
   "file_extension": ".py",
   "mimetype": "text/x-python",
   "name": "python",
   "nbconvert_exporter": "python",
   "pygments_lexer": "ipython3",
   "version": "3.11.0"
  }
 },
 "nbformat": 4,
 "nbformat_minor": 4
}
