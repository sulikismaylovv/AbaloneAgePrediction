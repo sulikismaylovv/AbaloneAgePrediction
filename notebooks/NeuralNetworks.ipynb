{
 "cells": [
  {
   "cell_type": "markdown",
   "metadata": {},
   "source": [
    "## Neural Network Multiple Multiclass"
   ]
  },
  {
   "cell_type": "code",
   "execution_count": 1,
   "metadata": {},
   "outputs": [
    {
     "name": "stdout",
     "output_type": "stream",
     "text": [
      "Training set: (2923, 11) (2923,)\n",
      "Testing set: (627, 11) (627,)\n",
      "Validation set: (627, 11) (627,)\n",
      "\n",
      "Training set:\n",
      "      Length  Diameter  Height  Whole weight  Shucked weight  Viscera weight  \\\n",
      "2830   0.525     0.430   0.135        0.8435          0.4325          0.1800   \n",
      "925    0.430     0.325   0.100        0.3645          0.1575          0.0825   \n",
      "3845   0.455     0.350   0.105        0.4160          0.1625          0.0970   \n",
      "547    0.205     0.155   0.045        0.0425          0.0170          0.0055   \n",
      "2259   0.590     0.465   0.160        1.1005          0.5060          0.2525   \n",
      "\n",
      "      Shell weight   Age  Sex_F  Sex_I  Sex_M  \n",
      "2830        0.1815  10.5    1.0    0.0    0.0  \n",
      "925         0.1050   8.5    0.0    1.0    0.0  \n",
      "3845        0.1450  12.5    0.0    0.0    1.0  \n",
      "547         0.0155   8.5    0.0    0.0    1.0  \n",
      "2259        0.2950  14.5    1.0    0.0    0.0  \n",
      "\n",
      "Testing set:\n",
      "      Length  Diameter  Height  Whole weight  Shucked weight  Viscera weight  \\\n",
      "3142   0.215     0.165   0.055        0.0590          0.0265          0.0125   \n",
      "752    0.605     0.460   0.170        1.1220          0.3470          0.3045   \n",
      "1188   0.690     0.540   0.155        1.4540          0.6240          0.3105   \n",
      "3740   0.650     0.500   0.170        1.4045          0.6940          0.3180   \n",
      "2586   0.555     0.425   0.140        0.9630          0.4400          0.2240   \n",
      "\n",
      "      Shell weight   Age  Sex_F  Sex_I  Sex_M  \n",
      "3142        0.0185   6.5    0.0    1.0    0.0  \n",
      "752         0.3150  14.5    1.0    0.0    0.0  \n",
      "1188        0.3900  10.5    1.0    0.0    0.0  \n",
      "3740        0.3235  12.5    1.0    0.0    0.0  \n",
      "2586        0.2400   8.5    1.0    0.0    0.0  \n",
      "\n",
      "Validation set:\n",
      "      Length  Diameter  Height  Whole weight  Shucked weight  Viscera weight  \\\n",
      "2148   0.415     0.310   0.090        0.3245          0.1305          0.0735   \n",
      "2303   0.580     0.455   0.120        0.9400          0.3990          0.2570   \n",
      "270    0.640     0.525   0.215        1.7790          0.4535          0.2855   \n",
      "3409   0.395     0.310   0.095        0.3130          0.1310          0.0720   \n",
      "3654   0.530     0.420   0.140        0.6765          0.2560          0.1855   \n",
      "\n",
      "      Shell weight   Age  Sex_F  Sex_I  Sex_M  \n",
      "2148         0.115   9.5    0.0    0.0    1.0  \n",
      "2303         0.265  12.5    1.0    0.0    0.0  \n",
      "270          0.550  23.5    1.0    0.0    0.0  \n",
      "3409         0.093   8.5    0.0    1.0    0.0  \n",
      "3654         0.208  10.5    0.0    1.0    0.0  \n",
      "\n",
      "First 5 rows of the scaled training set:\n",
      " [[-0.00954585  0.20680221 -0.12072394  0.01457825  0.31105444 -0.02098237\n",
      "  -0.42540763 -0.30383887  1.46390258 -0.67933791 -0.75989604]\n",
      " [-0.80318028 -0.85404855 -0.94465076 -0.95900917 -0.9194155  -0.91375895\n",
      "  -0.96974532 -0.92144737 -0.68310557  1.47202148 -0.75989604]\n",
      " [-0.59432912 -0.60146504 -0.82694693 -0.85433328 -0.89704332 -0.78098705\n",
      "  -0.68512431  0.31376963 -0.68310557 -0.67933791  1.31596949]\n",
      " [-2.68284079 -2.57161646 -2.2393929  -1.61348756 -1.54807379 -1.61882353\n",
      "  -1.60658483 -0.92144737 -0.68310557 -0.67933791  1.31596949]\n",
      " [ 0.53346719  0.56041914  0.46779521  0.53694144  0.6399255   0.64287714\n",
      "   0.38220449  0.93137813  1.46390258 -0.67933791 -0.75989604]]\n",
      "\n",
      "First 5 rows of the scaled testing set:\n",
      " [[-2.59930032 -2.47058306 -2.00398524 -1.57995062 -1.50556664 -1.55472675\n",
      "  -1.58523826 -1.53905587 -0.68310557  1.47202148 -0.75989604]\n",
      " [ 0.65877789  0.50990243  0.70320287  0.58064109 -0.07150985  1.11902465\n",
      "   0.524515    0.93137813  1.46390258 -0.67933791 -0.75989604]\n",
      " [ 1.36887186  1.31816968  0.35009138  1.25544489  1.16790897  1.17396475\n",
      "   1.05817939 -0.30383887  1.46390258 -0.67933791 -0.75989604]\n",
      " [ 1.03470999  0.91403606  0.70320287  1.15483408  1.4811195   1.24263987\n",
      "   0.58499696  0.31376963  1.46390258 -0.67933791 -0.75989604]\n",
      " [ 0.24107555  0.15628551 -0.00302011  0.25746697  0.34461272  0.38191168\n",
      "  -0.0091494  -0.92144737  1.46390258 -0.67933791 -0.75989604]]\n",
      "\n",
      "First 5 rows of the scaled validation set:\n",
      " [[-9.28490985e-01 -1.00559866e+00 -1.18005842e+00 -1.04031083e+00\n",
      "  -1.04022528e+00 -9.96169094e-01 -8.98590066e-01 -6.12643122e-01\n",
      "  -6.83105567e-01 -6.79337913e-01  1.31596949e+00]\n",
      " [ 4.49926719e-01  4.59385730e-01 -4.73835436e-01  2.10718517e-01\n",
      "   1.61160833e-01  6.84082213e-01  1.68738731e-01  3.13769628e-01\n",
      "   1.46390258e+00 -6.79337913e-01 -7.59896036e-01]\n",
      " [ 9.51169521e-01  1.16661957e+00  1.76253735e+00  1.91602091e+00\n",
      "   4.05017604e-01  9.45047675e-01  2.19666344e+00  3.71061638e+00\n",
      "   1.46390258e+00 -6.79337913e-01 -7.59896036e-01]\n",
      " [-1.09557192e+00 -1.00559866e+00 -1.06235459e+00 -1.06368506e+00\n",
      "  -1.03798806e+00 -1.00990412e+00 -1.05513162e+00 -9.21447372e-01\n",
      "  -6.83105567e-01  1.47202148e+00 -7.59896036e-01]\n",
      " [ 3.22243847e-02  1.05768807e-01 -3.02011198e-03 -3.24856192e-01\n",
      "  -4.78683540e-01  2.93793877e-02 -2.36846212e-01 -3.03838872e-01\n",
      "  -6.83105567e-01  1.47202148e+00 -7.59896036e-01]]\n",
      "Training Set: 2923 samples\n",
      "Testing Set: 627 samples\n",
      "Validation Set: 627 samples\n"
     ]
    },
    {
     "name": "stderr",
     "output_type": "stream",
     "text": [
      "c:\\Users\\eltac\\anaconda3\\envs\\eltajenv\\lib\\site-packages\\tensorflow\\python\\framework\\dtypes.py:516: FutureWarning: Passing (type, 1) or '1type' as a synonym of type is deprecated; in a future version of numpy, it will be understood as (type, (1,)) / '(1,)type'.\n",
      "  _np_qint8 = np.dtype([(\"qint8\", np.int8, 1)])\n",
      "c:\\Users\\eltac\\anaconda3\\envs\\eltajenv\\lib\\site-packages\\tensorflow\\python\\framework\\dtypes.py:517: FutureWarning: Passing (type, 1) or '1type' as a synonym of type is deprecated; in a future version of numpy, it will be understood as (type, (1,)) / '(1,)type'.\n",
      "  _np_quint8 = np.dtype([(\"quint8\", np.uint8, 1)])\n",
      "c:\\Users\\eltac\\anaconda3\\envs\\eltajenv\\lib\\site-packages\\tensorflow\\python\\framework\\dtypes.py:518: FutureWarning: Passing (type, 1) or '1type' as a synonym of type is deprecated; in a future version of numpy, it will be understood as (type, (1,)) / '(1,)type'.\n",
      "  _np_qint16 = np.dtype([(\"qint16\", np.int16, 1)])\n",
      "c:\\Users\\eltac\\anaconda3\\envs\\eltajenv\\lib\\site-packages\\tensorflow\\python\\framework\\dtypes.py:519: FutureWarning: Passing (type, 1) or '1type' as a synonym of type is deprecated; in a future version of numpy, it will be understood as (type, (1,)) / '(1,)type'.\n",
      "  _np_quint16 = np.dtype([(\"quint16\", np.uint16, 1)])\n",
      "c:\\Users\\eltac\\anaconda3\\envs\\eltajenv\\lib\\site-packages\\tensorflow\\python\\framework\\dtypes.py:520: FutureWarning: Passing (type, 1) or '1type' as a synonym of type is deprecated; in a future version of numpy, it will be understood as (type, (1,)) / '(1,)type'.\n",
      "  _np_qint32 = np.dtype([(\"qint32\", np.int32, 1)])\n",
      "c:\\Users\\eltac\\anaconda3\\envs\\eltajenv\\lib\\site-packages\\tensorflow\\python\\framework\\dtypes.py:525: FutureWarning: Passing (type, 1) or '1type' as a synonym of type is deprecated; in a future version of numpy, it will be understood as (type, (1,)) / '(1,)type'.\n",
      "  np_resource = np.dtype([(\"resource\", np.ubyte, 1)])\n",
      "c:\\Users\\eltac\\anaconda3\\envs\\eltajenv\\lib\\site-packages\\tensorboard\\compat\\tensorflow_stub\\dtypes.py:541: FutureWarning: Passing (type, 1) or '1type' as a synonym of type is deprecated; in a future version of numpy, it will be understood as (type, (1,)) / '(1,)type'.\n",
      "  _np_qint8 = np.dtype([(\"qint8\", np.int8, 1)])\n",
      "c:\\Users\\eltac\\anaconda3\\envs\\eltajenv\\lib\\site-packages\\tensorboard\\compat\\tensorflow_stub\\dtypes.py:542: FutureWarning: Passing (type, 1) or '1type' as a synonym of type is deprecated; in a future version of numpy, it will be understood as (type, (1,)) / '(1,)type'.\n",
      "  _np_quint8 = np.dtype([(\"quint8\", np.uint8, 1)])\n",
      "c:\\Users\\eltac\\anaconda3\\envs\\eltajenv\\lib\\site-packages\\tensorboard\\compat\\tensorflow_stub\\dtypes.py:543: FutureWarning: Passing (type, 1) or '1type' as a synonym of type is deprecated; in a future version of numpy, it will be understood as (type, (1,)) / '(1,)type'.\n",
      "  _np_qint16 = np.dtype([(\"qint16\", np.int16, 1)])\n",
      "c:\\Users\\eltac\\anaconda3\\envs\\eltajenv\\lib\\site-packages\\tensorboard\\compat\\tensorflow_stub\\dtypes.py:544: FutureWarning: Passing (type, 1) or '1type' as a synonym of type is deprecated; in a future version of numpy, it will be understood as (type, (1,)) / '(1,)type'.\n",
      "  _np_quint16 = np.dtype([(\"quint16\", np.uint16, 1)])\n",
      "c:\\Users\\eltac\\anaconda3\\envs\\eltajenv\\lib\\site-packages\\tensorboard\\compat\\tensorflow_stub\\dtypes.py:545: FutureWarning: Passing (type, 1) or '1type' as a synonym of type is deprecated; in a future version of numpy, it will be understood as (type, (1,)) / '(1,)type'.\n",
      "  _np_qint32 = np.dtype([(\"qint32\", np.int32, 1)])\n",
      "c:\\Users\\eltac\\anaconda3\\envs\\eltajenv\\lib\\site-packages\\tensorboard\\compat\\tensorflow_stub\\dtypes.py:550: FutureWarning: Passing (type, 1) or '1type' as a synonym of type is deprecated; in a future version of numpy, it will be understood as (type, (1,)) / '(1,)type'.\n",
      "  np_resource = np.dtype([(\"resource\", np.ubyte, 1)])\n"
     ]
    }
   ],
   "source": [
    "%run DataSplitting.ipynb\n",
    "import numpy as np\n",
    "import tensorflow as tf\n",
    "from tensorflow.keras.models import Sequential\n",
    "from tensorflow.keras.layers import Dense\n",
    "from tensorflow.keras.activations import linear, relu, sigmoid\n",
    "from tensorflow.keras.callbacks import EarlyStopping\n",
    "# %matplotlib widget\n",
    "import matplotlib.pyplot as plt\n",
    "from sklearn.metrics import confusion_matrix\n",
    "import seaborn as sns\n",
    "import logging\n",
    "logging.getLogger(\"tensorflow\").setLevel(logging.ERROR)\n",
    "tf.autograph.set_verbosity(0)\n",
    "# from public_tests import *\n",
    "# from autils import *\n",
    "# from lab_utils_softmax import plt_softmax\n",
    "np.set_printoptions(precision=2)\n",
    "\n"
   ]
  },
  {
   "cell_type": "markdown",
   "metadata": {},
   "source": [
    "## Model Declaration"
   ]
  },
  {
   "cell_type": "code",
   "execution_count": 2,
   "metadata": {},
   "outputs": [],
   "source": [
    "#tf.random.set_random_seed(1234) # for consistent results\n",
    "model = Sequential(\n",
    "    [\n",
    "        # Code Assignment STARTS HERE\n",
    "        tf.keras.layers.InputLayer((X_train.shape[1],)),\n",
    "        tf.keras.layers.Dense(20, activation=\"relu\", name=\"L1\"),\n",
    "        tf.keras.layers.Dense(3, activation=\"softmax\", name=\"L2\")\n",
    "        # Code Assignment ENDS HERE\n",
    "    ], name = \"my_model\"\n",
    ")\n"
   ]
  },
  {
   "cell_type": "markdown",
   "metadata": {},
   "source": [
    "# Examine Layer Weights"
   ]
  },
  {
   "cell_type": "code",
   "execution_count": 3,
   "metadata": {},
   "outputs": [
    {
     "name": "stdout",
     "output_type": "stream",
     "text": [
      "W1 shape = (11, 20), b1 shape = (20,)\n",
      "W2 shape = (20, 3), b2 shape = (3,)\n"
     ]
    }
   ],
   "source": [
    "#### Examine Weights shapes\n",
    "#Code Assignment STARTS HERE\n",
    "[layer1, layer2] = model.layers\n",
    "W1,b1 = layer1.get_weights()\n",
    "W2,b2 = layer2.get_weights()\n",
    "print(f\"W1 shape = {W1.shape}, b1 shape = {b1.shape}\")\n",
    "print(f\"W2 shape = {W2.shape}, b2 shape = {b2.shape}\")\n",
    "#Code Assignment ENDS HERE"
   ]
  },
  {
   "cell_type": "markdown",
   "metadata": {},
   "source": [
    "## Define Loss function"
   ]
  },
  {
   "cell_type": "code",
   "execution_count": 4,
   "metadata": {},
   "outputs": [
    {
     "name": "stdout",
     "output_type": "stream",
     "text": [
      "Model: \"my_model\"\n",
      "_________________________________________________________________\n",
      "Layer (type)                 Output Shape              Param #   \n",
      "=================================================================\n",
      "L1 (Dense)                   (None, 20)                240       \n",
      "_________________________________________________________________\n",
      "L2 (Dense)                   (None, 3)                 63        \n",
      "=================================================================\n",
      "Total params: 303\n",
      "Trainable params: 303\n",
      "Non-trainable params: 0\n",
      "_________________________________________________________________\n",
      "Train on 2923 samples, validate on 627 samples\n",
      "Epoch 1/30\n",
      "2923/2923 [==============================] - 0s 74us/sample - loss: 0.7347 - val_loss: 0.5831\n",
      "Epoch 2/30\n",
      "2923/2923 [==============================] - 0s 30us/sample - loss: 0.5385 - val_loss: 0.4989\n",
      "Epoch 3/30\n",
      "2923/2923 [==============================] - 0s 25us/sample - loss: 0.4691 - val_loss: 0.4353\n",
      "Epoch 4/30\n",
      "2923/2923 [==============================] - 0s 27us/sample - loss: 0.4087 - val_loss: 0.3765\n",
      "Epoch 5/30\n",
      "2923/2923 [==============================] - 0s 27us/sample - loss: 0.3518 - val_loss: 0.3247\n",
      "Epoch 6/30\n",
      "2923/2923 [==============================] - 0s 27us/sample - loss: 0.3008 - val_loss: 0.2789\n",
      "Epoch 7/30\n",
      "2923/2923 [==============================] - 0s 27us/sample - loss: 0.2573 - val_loss: 0.2405\n",
      "Epoch 8/30\n",
      "2923/2923 [==============================] - 0s 30us/sample - loss: 0.2212 - val_loss: 0.2099\n",
      "Epoch 9/30\n",
      "2923/2923 [==============================] - 0s 30us/sample - loss: 0.1941 - val_loss: 0.1868\n",
      "Epoch 10/30\n",
      "2923/2923 [==============================] - 0s 27us/sample - loss: 0.1718 - val_loss: 0.1679\n",
      "Epoch 11/30\n",
      "2923/2923 [==============================] - 0s 27us/sample - loss: 0.1536 - val_loss: 0.1529\n",
      "Epoch 12/30\n",
      "2923/2923 [==============================] - 0s 27us/sample - loss: 0.1379 - val_loss: 0.1373\n",
      "Epoch 13/30\n",
      "2923/2923 [==============================] - 0s 27us/sample - loss: 0.1248 - val_loss: 0.1262\n",
      "Epoch 14/30\n",
      "2923/2923 [==============================] - 0s 27us/sample - loss: 0.1129 - val_loss: 0.1137\n",
      "Epoch 15/30\n",
      "2923/2923 [==============================] - 0s 27us/sample - loss: 0.1028 - val_loss: 0.1053\n",
      "Epoch 16/30\n",
      "2923/2923 [==============================] - 0s 29us/sample - loss: 0.0939 - val_loss: 0.0996\n",
      "Epoch 17/30\n",
      "2923/2923 [==============================] - 0s 30us/sample - loss: 0.0858 - val_loss: 0.0907\n",
      "Epoch 18/30\n",
      "2923/2923 [==============================] - 0s 27us/sample - loss: 0.0789 - val_loss: 0.0827\n",
      "Epoch 19/30\n",
      "2923/2923 [==============================] - 0s 30us/sample - loss: 0.0724 - val_loss: 0.0785\n",
      "Epoch 20/30\n",
      "2923/2923 [==============================] - 0s 29us/sample - loss: 0.0666 - val_loss: 0.0719\n",
      "Epoch 21/30\n",
      "2923/2923 [==============================] - 0s 27us/sample - loss: 0.0615 - val_loss: 0.0677\n",
      "Epoch 22/30\n",
      "2923/2923 [==============================] - 0s 30us/sample - loss: 0.0572 - val_loss: 0.0627\n",
      "Epoch 23/30\n",
      "2923/2923 [==============================] - 0s 27us/sample - loss: 0.0525 - val_loss: 0.0608\n",
      "Epoch 24/30\n",
      "2923/2923 [==============================] - 0s 29us/sample - loss: 0.0490 - val_loss: 0.0555\n",
      "Epoch 25/30\n",
      "2923/2923 [==============================] - 0s 27us/sample - loss: 0.0453 - val_loss: 0.0519\n",
      "Epoch 26/30\n",
      "2923/2923 [==============================] - 0s 30us/sample - loss: 0.0424 - val_loss: 0.0487\n",
      "Epoch 27/30\n",
      "2923/2923 [==============================] - 0s 27us/sample - loss: 0.0395 - val_loss: 0.0468\n",
      "Epoch 28/30\n",
      "2923/2923 [==============================] - 0s 27us/sample - loss: 0.0373 - val_loss: 0.0437\n",
      "Epoch 29/30\n",
      "2923/2923 [==============================] - 0s 27us/sample - loss: 0.0347 - val_loss: 0.0417\n",
      "Epoch 30/30\n",
      "2923/2923 [==============================] - 0s 27us/sample - loss: 0.0327 - val_loss: 0.0389\n"
     ]
    }
   ],
   "source": [
    "# We compile the model with previously set layers \n",
    "#with their neruon size and activation functions\n",
    "\n",
    "#We can change the Optimizer Parameter in the second line of the called function/\n",
    "model.compile(\n",
    "    loss=tf.keras.losses.SparseCategoricalCrossentropy(),\n",
    "    optimizer=tf.keras.optimizers.Adam(learning_rate=0.001),\n",
    ")\n",
    "\n",
    "\n",
    "model.summary()\n",
    "# We use early stopping here, the idea is to stop training when certain criteria is met\n",
    "early_stopping = EarlyStopping(monitor='val_loss', patience=3, restore_best_weights=True)\n",
    "\n",
    "#y_train = [Age<8, Age>=8 && Age<15, Age>15]\n",
    "#y_train_classification=['young','middle-age','old']\n",
    "#y_train_encoded = [2,0,1]\n",
    "\n",
    "# the above is how we encode the continuous age variable\n",
    "history = model.fit(\n",
    "    X_train_scaled, y_train_encoded,\n",
    "    validation_data=(X_val_scaled, y_val_encoded),\n",
    "    epochs=30,\n",
    "    batch_size=32, \n",
    "    callbacks=[early_stopping]\n",
    ")"
   ]
  },
  {
   "cell_type": "markdown",
   "metadata": {},
   "source": [
    "# Loss Plot"
   ]
  },
  {
   "cell_type": "code",
   "execution_count": 5,
   "metadata": {},
   "outputs": [
    {
     "data": {
      "image/png": "[encoded data removed]",
      "text/plain": [
       "<Figure size 640x480 with 1 Axes>"
      ]
     },
     "metadata": {},
     "output_type": "display_data"
    }
   ],
   "source": [
    "# Plot training & validation loss values\n",
    "plt.plot(history.history['loss'])\n",
    "plt.plot(history.history['val_loss'])\n",
    "plt.title('Model loss with SGD')\n",
    "plt.xlabel('Epoch')\n",
    "plt.ylabel('Loss')\n",
    "plt.legend(['Train', 'Validation'], loc='upper right')\n",
    "plt.show()"
   ]
  },
  {
   "cell_type": "markdown",
   "metadata": {},
   "source": [
    "## Tuning and Evaluation"
   ]
  },
  {
   "cell_type": "code",
   "execution_count": 7,
   "metadata": {},
   "outputs": [],
   "source": [
    "def build_model(num_neurons):\n",
    "    model_2 = Sequential([\n",
    "        tf.keras.layers.InputLayer((X_train.shape[1],)),\n",
    "        tf.keras.layers.Dense(num_neurons, activation=\"relu\", name=\"L1\"),\n",
    "        tf.keras.layers.Dense(3, activation=\"softmax\", name=\"L2\")\n",
    "    ], name=\"my_model_2\")\n",
    "\n",
    "    model_2.compile(\n",
    "         loss=tf.keras.losses.SparseCategoricalCrossentropy(),\n",
    "         optimizer=tf.keras.optimizers.Adam(learning_rate=0.001),\n",
    "    )\n",
    "\n",
    "    return model_2\n",
    "\n",
    "### You can uncomment the following lines for observation of different neurons and how they\n",
    "### affect val_loss and loss\n",
    "\n",
    "# neuron_configs = [5, 10, 20, 30, 50]\n",
    "# validation_losses = []\n",
    "\n",
    "\n",
    "# for num_neurons in neuron_configs:\n",
    "#     model_2 = build_model(num_neurons)\n",
    "#     #using early stopping to automatically stop training when the validation loss stops improving. This can prevent overfitting. \n",
    "#     early_stopping = EarlyStopping(monitor='val_loss', patience=3, restore_best_weights=True)\n",
    "\n",
    "#     history = model_2.fit(X_train_scaled, y_train_encoded, validation_data=(X_val_scaled, y_val_encoded), epochs=30, batch_size=32, callbacks=[early_stopping])\n",
    "#     # Evaluate and print performance metrics\n",
    "#     eval_metrics = model_2.evaluate(X_val_scaled, y_val_encoded)\n",
    "#     validation_loss = eval_metrics\n",
    "#     validation_losses.append((num_neurons, validation_loss))\n",
    "\n",
    "# # Sort and print validation losses\n",
    "# sorted_losses = sorted(validation_losses, key=lambda x: x[1])\n",
    "# for neurons, loss in sorted_losses:\n",
    "#     print(f\"Neurons: {neurons}, Validation Loss: {loss}\")"
   ]
  },
  {
   "cell_type": "markdown",
   "metadata": {},
   "source": [
    "## Prediction"
   ]
  },
  {
   "cell_type": "code",
   "execution_count": 8,
   "metadata": {},
   "outputs": [
    {
     "name": "stdout",
     "output_type": "stream",
     "text": [
      " predicting: \n",
      "[[3.28e-07 3.83e-11 1.00e+00]]\n",
      " Largest Prediction index: 2\n"
     ]
    }
   ],
   "source": [
    "###Reminder of encoding again\n",
    "#y_train = [Age<8, Age>=8 && Age<15, Age>15]\n",
    "#y_train_classification=['young','middle-age','old']\n",
    "#y_train_encoded = [2,0,1]\n",
    "\n",
    "##The following line is for predicting with our model for individual row of dataset\n",
    "\n",
    "age_of_index = X_test_scaled[300]\n",
    "prediction = model.predict(age_of_index.reshape(1,11))  # prediction\n",
    "print(f\" predicting: \\n{prediction}\")\n",
    "print(f\" Largest Prediction index: {np.argmax(prediction)}\")"
   ]
  },
  {
   "cell_type": "markdown",
   "metadata": {},
   "source": [
    "## Unmatched Prediction and Real Value"
   ]
  },
  {
   "cell_type": "code",
   "execution_count": 10,
   "metadata": {},
   "outputs": [
    {
     "name": "stdout",
     "output_type": "stream",
     "text": [
      "Accuracy: 100.00%\n"
     ]
    }
   ],
   "source": [
    "### This part takes the test set which model hasn't seen before and checks the accuracy of the model\n",
    "### with test set, model performance metric is accuracy\n",
    "\n",
    "y_pred=model.predict(X_test_scaled)  \n",
    "# Get the predicted class labels\n",
    "predicted_classes = np.argmax(y_pred, axis=1)\n",
    "# Find indices where predictions don't match true labels\n",
    "incorrect_indices = np.where(predicted_classes != y_test_encoded)[0]\n",
    "# Store incorrect predictions for later printing\n",
    "incorrect_predictions = []\n",
    "# Print out the ages and corresponding predictions for the incorrect instances\n",
    "for index in incorrect_indices:\n",
    "    age = y_test_encoded[index]\n",
    "    prediction = predicted_classes[index]\n",
    "    incorrect_predictions.append((index, age, prediction))\n",
    "# Calculate accuracy\n",
    "accuracy = np.sum(predicted_classes == y_test_encoded) / len(y_test_encoded)\n",
    "print(f\"Accuracy: {accuracy * 100:.2f}%\")"
   ]
  },
  {
   "cell_type": "markdown",
   "metadata": {},
   "source": [
    "## Confusion Matrix"
   ]
  },
  {
   "cell_type": "code",
   "execution_count": 11,
   "metadata": {},
   "outputs": [
    {
     "data": {
      "image/png": "[encoded data removed]",
      "text/plain": [
       "<Figure size 400x300 with 1 Axes>"
      ]
     },
     "metadata": {},
     "output_type": "display_data"
    }
   ],
   "source": [
    "conf_matrix = confusion_matrix(y_test_encoded, predicted_classes)\n",
    "plt.figure(figsize=(4,3))\n",
    "sns.heatmap(conf_matrix, annot=True, fmt='d', cmap='Reds', cbar=False,\n",
    "            xticklabels=['middle-age', 'old', 'young'],\n",
    "            yticklabels=['middle-age', 'old', 'young'])\n",
    "plt.xlabel('Predicted')\n",
    "plt.ylabel('Actual')\n",
    "plt.title('Confusion Matrix with SGD')\n",
    "plt.show()"
   ]
  },
  {
   "cell_type": "markdown",
   "metadata": {},
   "source": [
    "## Cross Validation"
   ]
  },
  {
   "cell_type": "code",
   "execution_count": 12,
   "metadata": {},
   "outputs": [
    {
     "name": "stdout",
     "output_type": "stream",
     "text": [
      "Score for fold 1: loss of 0.03652903358911125; acc of 99.57746267318726%\n",
      "Score for fold 2: loss of 0.03651346956760111; acc of 99.29577708244324%\n",
      "Score for fold 3: loss of 0.03879973041549535; acc of 99.7183084487915%\n",
      "Score for fold 4: loss of 0.031530673098816; acc of 100.0%\n",
      "Score for fold 5: loss of 0.04299570371357488; acc of 99.57746267318726%\n",
      "------------------------------------------------------------------------\n",
      "Score per fold\n",
      "------------------------------------------------------------------------\n",
      "> Fold 1 - Loss: 0.03652903358911125 - Accuracy: 99.57746267318726%\n",
      "------------------------------------------------------------------------\n",
      "> Fold 2 - Loss: 0.03651346956760111 - Accuracy: 99.29577708244324%\n",
      "------------------------------------------------------------------------\n",
      "> Fold 3 - Loss: 0.03879973041549535 - Accuracy: 99.7183084487915%\n",
      "------------------------------------------------------------------------\n",
      "> Fold 4 - Loss: 0.031530673098816 - Accuracy: 100.0%\n",
      "------------------------------------------------------------------------\n",
      "> Fold 5 - Loss: 0.04299570371357488 - Accuracy: 99.57746267318726%\n",
      "------------------------------------------------------------------------\n",
      "Average scores for all folds:\n",
      "> Accuracy: 99.63380217552185 (+- 0.2288455371956725)\n",
      "> Loss: 0.037273722076919716\n",
      "------------------------------------------------------------------------\n"
     ]
    }
   ],
   "source": [
    "from sklearn.model_selection import KFold\n",
    "from tensorflow.keras.models import Sequential\n",
    "from tensorflow.keras.layers import Dense\n",
    "from tensorflow.keras.optimizers import Adam\n",
    "from tensorflow.keras.losses import SparseCategoricalCrossentropy\n",
    "import numpy as np\n",
    "\n",
    "# Combine training and validation sets for cross-validation\n",
    "X_combined = np.concatenate((X_train_scaled, X_val_scaled), axis=0)\n",
    "y_combined = np.concatenate((y_train_encoded, y_val_encoded), axis=0)\n",
    "\n",
    "# Define the K-fold Cross Validator\n",
    "num_folds = 5\n",
    "kfold = KFold(n_splits=num_folds, shuffle=True)\n",
    "\n",
    "# K-fold Cross Validation model evaluation\n",
    "fold_no = 1\n",
    "acc_per_fold = []\n",
    "loss_per_fold = []\n",
    "\n",
    "for train, test in kfold.split(X_combined, y_combined):\n",
    "    # Define the model architecture\n",
    "    model = Sequential([\n",
    "        Dense(20, activation='relu', input_shape=(X_combined.shape[1],)),\n",
    "        Dense(3, activation='softmax')\n",
    "    ])\n",
    "\n",
    "    # Compile the model\n",
    "    model.compile(loss=SparseCategoricalCrossentropy(),\n",
    "                  optimizer=Adam(learning_rate=0.001),\n",
    "                  metrics=['accuracy'])\n",
    "    \n",
    "    # Fit data to model\n",
    "    history = model.fit(X_combined[train], y_combined[train],\n",
    "                        batch_size=32,\n",
    "                        epochs=30,\n",
    "                        verbose=0)\n",
    "\n",
    "    # Generate generalization metrics\n",
    "    scores = model.evaluate(X_combined[test], y_combined[test], verbose=0)\n",
    "    print(f'Score for fold {fold_no}: {model.metrics_names[0]} of {scores[0]}; {model.metrics_names[1]} of {scores[1]*100}%')\n",
    "    acc_per_fold.append(scores[1] * 100)\n",
    "    loss_per_fold.append(scores[0])\n",
    "    fold_no += 1\n",
    "\n",
    "# == Provide average scores ==\n",
    "print('------------------------------------------------------------------------')\n",
    "print('Score per fold')\n",
    "for i in range(0, len(acc_per_fold)):\n",
    "  print('------------------------------------------------------------------------')\n",
    "  print(f'> Fold {i+1} - Loss: {loss_per_fold[i]} - Accuracy: {acc_per_fold[i]}%')\n",
    "print('------------------------------------------------------------------------')\n",
    "print('Average scores for all folds:')\n",
    "print(f'> Accuracy: {np.mean(acc_per_fold)} (+- {np.std(acc_per_fold)})')\n",
    "print(f'> Loss: {np.mean(loss_per_fold)}')\n",
    "print('------------------------------------------------------------------------')\n"
   ]
  }
 ],
 "metadata": {
  "kernelspec": {
   "display_name": "eltajenv",
   "language": "python",
   "name": "python3"
  },
  "language_info": {
   "codemirror_mode": {
    "name": "ipython",
    "version": 3
   },
   "file_extension": ".py",
   "mimetype": "text/x-python",
   "name": "python",
   "nbconvert_exporter": "python",
   "pygments_lexer": "ipython3",
   "version": "3.11.0"
  }
 },
 "nbformat": 4,
 "nbformat_minor": 4
}
